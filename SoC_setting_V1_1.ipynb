{
  "nbformat": 4,
  "nbformat_minor": 0,
  "metadata": {
    "colab": {
      "provenance": [],
      "authorship_tag": "ABX9TyPx/7ICU8/gwD7OZ2ar5xIH",
      "include_colab_link": true
    },
    "kernelspec": {
      "name": "python3",
      "display_name": "Python 3"
    },
    "language_info": {
      "name": "python"
    }
  },
  "cells": [
    {
      "cell_type": "markdown",
      "metadata": {
        "id": "view-in-github",
        "colab_type": "text"
      },
      "source": [
        "<a href=\"https://colab.research.google.com/github/shc311/hello_python/blob/master/SoC_setting_V1_1.ipynb\" target=\"_parent\"><img src=\"https://colab.research.google.com/assets/colab-badge.svg\" alt=\"Open In Colab\"/></a>"
      ]
    },
    {
      "cell_type": "code",
      "execution_count": null,
      "metadata": {
        "colab": {
          "base_uri": "https://localhost:8080/"
        },
        "id": "wey0WmQFGd6P",
        "outputId": "0442e77a-7eae-4306-b454-42a145d3b67e"
      },
      "outputs": [
        {
          "output_type": "stream",
          "name": "stdout",
          "text": [
            "enter the obligation 6\n",
            "enter the available units 2\n",
            "enter 1 if unit faulted, 2 if unit in manual 2\n",
            "enter the indie SoC of the manual unit 50\n",
            "Set the indie Target SoC to 86.5\n",
            "Set the SCADA Max Target SoC to 76.7\n"
          ]
        }
      ],
      "source": [
        "#This is for indie SoC target if you have one unit Faulted or Running manual\n",
        "\n",
        "obligation = float(input(\"enter the obligation \"))\n",
        "available_units = int(input(\"enter the available units \"))\n",
        "\n",
        "SoE = 10.752\n",
        "total_strings = 30\n",
        "unit_stings = 10\n",
        "\n",
        "Max_SoE_unit = (SoE / total_strings) * unit_stings\n",
        "\n",
        "indie_SoC = (obligation + 0.2) * 100 / (Max_SoE_unit * available_units)\n",
        "\n",
        "fault_or_manual = int(input(\"enter 1 if unit faulted, 2 if unit in manual \"))\n",
        "\n",
        "if  fault_or_manual == 1:\n",
        "    \n",
        "    SCADA_MAX_TGT_SoC = 0.9 * available_units * Max_SoE_unit * 100 / SoE\n",
        "\n",
        "elif    fault_or_manual == 2:\n",
        "    \n",
        "    manual_unit_SoC = float(input(\"enter the indie SoC of the manual unit \"))      \n",
        "    SCADA_MAX_TGT_SoC = (0.9 * available_units + manual_unit_SoC/100) * Max_SoE_unit * 100/ SoE\n",
        "\n",
        "else:\n",
        "    print(\"wrong data entry\")\n",
        "\n",
        "\n",
        "print(\"Set the indie Target SoC to\", '%.1f'% indie_SoC)\n",
        "print(\"Set the SCADA Max Target SoC to\", '%.1f'% SCADA_MAX_TGT_SoC)"
      ]
    }
  ]
}